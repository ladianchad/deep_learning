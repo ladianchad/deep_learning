{
 "cells": [
  {
   "cell_type": "code",
   "execution_count": 1,
   "metadata": {
    "colab": {
     "base_uri": "https://localhost:8080/",
     "height": 369
    },
    "executionInfo": {
     "elapsed": 1488,
     "status": "error",
     "timestamp": 1618063106472,
     "user": {
      "displayName": "정찬희",
      "photoUrl": "",
      "userId": "05172265400941920459"
     },
     "user_tz": -540
    },
    "id": "OGRqAgyO216D",
    "outputId": "d050b647-3948-4d49-cf4b-e6e0182e50d2"
   },
   "outputs": [],
   "source": [
    "import torch\n",
    "import torch.nn as nn\n",
    "import torch.optim as optim\n",
    "import torchvision\n",
    "import torchvision.transforms as transform\n",
    "from torchvision import datasets\n",
    "import matplotlib.pyplot as plt"
   ]
  },
  {
   "cell_type": "code",
   "execution_count": 2,
   "metadata": {
    "colab": {
     "base_uri": "https://localhost:8080/",
     "height": 190
    },
    "executionInfo": {
     "elapsed": 1105,
     "status": "error",
     "timestamp": 1618062976721,
     "user": {
      "displayName": "정찬희",
      "photoUrl": "",
      "userId": "05172265400941920459"
     },
     "user_tz": -540
    },
    "id": "0e60pCbzRTZj",
    "outputId": "183bca10-8194-4bd4-c573-a1ae6fa7aecd"
   },
   "outputs": [],
   "source": [
    "train_data = datasets.MNIST('',train=True,download=True,transform=transform.ToTensor())\n",
    "test_data = datasets.MNIST('',train=False,download=True,transform=transform.ToTensor())"
   ]
  },
  {
   "cell_type": "code",
   "execution_count": 3,
   "metadata": {
    "id": "0hL3bYjNzhjd"
   },
   "outputs": [],
   "source": [
    "train_loader = torch.utils.data.DataLoader(train_data,batch_size=12,shuffle=True)\n",
    "test_loader = torch.utils.data.DataLoader(test_data,batch_size=12)\n",
    "data_shape = train_loader.dataset.data.shape[1:3]\n",
    "input_data_len = data_shape[0] * data_shape[1]"
   ]
  },
  {
   "cell_type": "code",
   "execution_count": 4,
   "metadata": {
    "id": "7a_ECkDBzoEN"
   },
   "outputs": [],
   "source": [
    "class MLP(nn.Module):\n",
    "    def __init__(self,input_size,output_size,hidden_layer,seed=0):\n",
    "        super().__init__()\n",
    "        self.in_dim = input_size\n",
    "        self.out_dim = output_size\n",
    "        self.hidden = hidden_layer\n",
    "        dim_seed = 1\n",
    "        compare = 1\n",
    "        while compare < self.out_dim :\n",
    "            dim_seed = dim_seed +1\n",
    "            compare = compare<<1\n",
    "        dim_seed += seed\n",
    "        self.linears = nn.ModuleList()\n",
    "        self.linears.append(nn.Linear(self.in_dim,2**(self.hidden+dim_seed)))\n",
    "        for i in range(hidden_layer) :\n",
    "            self.linears.append(nn.Linear(2**(self.hidden+dim_seed - i),2**(self.hidden+dim_seed - i -1)))\n",
    "        self.linears.append(nn.Linear(2**(dim_seed),self.out_dim))\n",
    "        self.relu = nn.ReLU()\n",
    "        self.log_softmax = nn.LogSoftmax()\n",
    "    def forward(self,x):\n",
    "        x = x.view(-1,self.in_dim)\n",
    "        for i,l in enumerate(self.linears):\n",
    "            if i != len(self.linears)-1:\n",
    "                x = self.relu(l(x))\n",
    "            else:\n",
    "                x = l(x)\n",
    "        return x"
   ]
  },
  {
   "cell_type": "code",
   "execution_count": 9,
   "metadata": {
    "id": "ZZCYdTwBEFOK"
   },
   "outputs": [],
   "source": [
    "models = []\n",
    "criterions = []\n",
    "optimizers = []\n",
    "models_loss = []\n",
    "for i in range(2,6):\n",
    "    models.append(MLP(input_data_len,10,i))\n",
    "    criterions.append(nn.CrossEntropyLoss())\n",
    "    optimizers.append(optim.SGD(models[i-2].parameters(),lr=0.01))\n",
    "    models_loss.append([])\n",
    "    "
   ]
  },
  {
   "cell_type": "code",
   "execution_count": null,
   "metadata": {
    "colab": {
     "base_uri": "https://localhost:8080/"
    },
    "executionInfo": {
     "elapsed": 168737,
     "status": "ok",
     "timestamp": 1618042843343,
     "user": {
      "displayName": "정찬희",
      "photoUrl": "",
      "userId": "05172265400941920459"
     },
     "user_tz": -540
    },
    "id": "q41poJsyF8lO",
    "outputId": "07f14878-7194-420a-de24-d42be70c14a0"
   },
   "outputs": [
    {
     "name": "stdout",
     "output_type": "stream",
     "text": [
      "epoch :  1\n",
      "epoch :  2\n",
      "epoch :  3\n"
     ]
    }
   ],
   "source": [
    "for epoch in range(10) :\n",
    "    print(\"epoch : \",epoch+1)\n",
    "    for model , criterion , optimizer,model_loss in zip(models,criterions,optimizers,models_loss):\n",
    "        running_loss = 0\n",
    "        for i,data in enumerate(train_loader,0):\n",
    "            inputs,labels = data\n",
    "            optimizer.zero_grad()\n",
    "            outputs = model(inputs)\n",
    "            loss = criterion(outputs,labels)\n",
    "            loss.backward()\n",
    "            optimizer.step()\n",
    "            running_loss = (running_loss*i +  loss.item()*(i+1))/(i+1)\n",
    "            model_loss.append(running_loss) \n",
    "print(\"Finish\")"
   ]
  },
  {
   "cell_type": "code",
   "execution_count": 24,
   "metadata": {
    "colab": {
     "base_uri": "https://localhost:8080/"
    },
    "executionInfo": {
     "elapsed": 3654,
     "status": "ok",
     "timestamp": 1618042924745,
     "user": {
      "displayName": "정찬희",
      "photoUrl": "",
      "userId": "05172265400941920459"
     },
     "user_tz": -540
    },
    "id": "hhCu-80qGCwt",
    "outputId": "e2de705a-dd1f-484d-a57e-138f6f3f68b2"
   },
   "outputs": [
    {
     "data": {
      "image/png": "[encoded data removed]",
      "text/plain": [
       "<Figure size 432x288 with 1 Axes>"
      ]
     },
     "metadata": {
      "needs_background": "light"
     },
     "output_type": "display_data"
    }
   ],
   "source": [
    "for i,model_loss in enumerate(models_loss):\n",
    "    X = [i for i in range(len(model_loss))]\n",
    "    plt.plot(X,model_loss,label=str(i+2)+'layer')\n",
    "plt.legend(loc='upper right')\n",
    "plt.show()"
   ]
  },
  {
   "cell_type": "code",
   "execution_count": null,
   "metadata": {
    "id": "tR8vlT_WqBdD"
   },
   "outputs": [],
   "source": []
  }
 ],
 "metadata": {
  "colab": {
   "collapsed_sections": [],
   "name": "딥러닝.ipynb",
   "provenance": []
  },
  "kernelspec": {
   "display_name": "Python 3",
   "language": "python",
   "name": "python3"
  },
  "language_info": {
   "codemirror_mode": {
    "name": "ipython",
    "version": 3
   },
   "file_extension": ".py",
   "mimetype": "text/x-python",
   "name": "python",
   "nbconvert_exporter": "python",
   "pygments_lexer": "ipython3",
   "version": "3.8.8"
  }
 },
 "nbformat": 4,
 "nbformat_minor": 1
}
