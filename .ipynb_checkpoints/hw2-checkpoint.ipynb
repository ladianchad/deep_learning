{
 "cells": [
  {
   "cell_type": "code",
   "execution_count": 2,
   "id": "practical-perth",
   "metadata": {},
   "outputs": [],
   "source": [
    "import numpy as np\n",
    "import matplotlib.pyplot as plt\n"
   ]
  },
  {
   "cell_type": "code",
   "execution_count": 3,
   "id": "pleased-polyester",
   "metadata": {},
   "outputs": [],
   "source": [
    "x_seeds = np.array([(0,0),(1,0),(0,1),(1,1)],dtype=np.float)\n",
    "y_seeds = np.array([0,1,1,0])\n",
    "N = 1000\n",
    "idxs = np.random.randint(0,4,N)\n",
    "X = x_seeds[idxs]\n",
    "Y = y_seeds[idxs]"
   ]
  },
  {
   "cell_type": "code",
   "execution_count": 5,
   "id": "appropriate-rapid",
   "metadata": {},
   "outputs": [],
   "source": [
    "X += np.random.normal(scale = 0.15,size = X.shape)"
   ]
  },
  {
   "cell_type": "code",
   "execution_count": 56,
   "id": "arbitrary-relation",
   "metadata": {},
   "outputs": [],
   "source": [
    "class ShallowNeuralNetwork():\n",
    "    def __init__(self,input_num = 2,hidden_num=3,method = 'standard_normal'):\n",
    "        if method == 'normal':\n",
    "            self.w1 = np.random.normal(size=(hidden_num,input_num))\n",
    "            self.b1 = np.random.normal(size=hidden_num)\n",
    "            self.w2 = np.random.normal(size=hidden_num)\n",
    "            self.b2 = np.random.normal(size=1)\n",
    "        elif method == 'standard_normal':\n",
    "            self.w1 = np.random.standard_normal(size =(hidden_num,input_num))\n",
    "            self.b1 = np.random.standard_normal(size=hidden_num)\n",
    "            self.w2 = np.random.standard_normal(size=hidden_num)\n",
    "            self.b2 = np.random.standard_normal(size=1)\n",
    "        else:\n",
    "            self.w1 = np.random.standard_normal(size =(hidden_num,input_num))\n",
    "            self.b1 = np.random.standard_normal(size=hidden_num)\n",
    "            self.w2 = np.random.standard_normal(size=hidden_num)\n",
    "            self.b2 = np.random.standard_normal(size=1)\n",
    "    \n",
    "    def sigmoid(self,z):\n",
    "        return 1/(1+np.exp(-z))\n",
    "    \n",
    "    def predict(self,X):\n",
    "        z1 = self.w1@X + self.b1\n",
    "        a1 = np.tanh(z1)\n",
    "        z2 = self.w2@a1 + self.b2\n",
    "        a2 = self.sigmoid(z2)\n",
    "        return a2,(a1,z1,a2,z2)"
   ]
  },
  {
   "cell_type": "code",
   "execution_count": 57,
   "id": "balanced-brown",
   "metadata": {},
   "outputs": [],
   "source": [
    "model = ShallowNeuralNetwork(input_num=2,hidden_num=3)"
   ]
  },
  {
   "cell_type": "code",
   "execution_count": 58,
   "id": "material-playlist",
   "metadata": {},
   "outputs": [],
   "source": [
    "def train(X,Y,model,lr=0.1):\n",
    "    dw1 = np.zeros_like(model.w1)\n",
    "    db1 = np.zeros_like(model.b1)\n",
    "    dw2 = np.zeros_like(model.w2)\n",
    "    db2 = np.zeros_like(model.b2)\n",
    "    m = len(X)\n",
    "    cost = 0.0\n",
    "    for x,y in zip(X,Y):\n",
    "        a2, (a1,z1,a2,z2) = model.predict(x)\n",
    "        cost -= np.log(a2) if y else np.log(1-a2)\n",
    "        diff = a2-y\n",
    "        db2 += diff\n",
    "        dw2 += a1*diff\n",
    "        print(db1)\n",
    "        print(dw1)\n",
    "        \n",
    "        db1 += (1-a1**2)*model.w2*diff\n",
    "        dw1 += x*(1-a1**2)*model.w2*diff\n",
    "    cost /= m\n",
    "    model.w1 -= lr*dw1/m\n",
    "    model.b1 -= lr*db1/m\n",
    "    model.w2 -= lr*dw2/m\n",
    "    model.b2 -= lr*db2/m"
   ]
  },
  {
   "cell_type": "code",
   "execution_count": 59,
   "id": "standing-registrar",
   "metadata": {},
   "outputs": [
    {
     "ename": "ValueError",
     "evalue": "matmul: Input operand 1 has a mismatch in its core dimension 0, with gufunc signature (n?,k),(k,m?)->(n?,m?) (size 2 is different from 3)",
     "output_type": "error",
     "traceback": [
      "\u001b[1;31m---------------------------------------------------------------------------\u001b[0m",
      "\u001b[1;31mValueError\u001b[0m                                Traceback (most recent call last)",
      "\u001b[1;32m<ipython-input-59-ac2af4ea837b>\u001b[0m in \u001b[0;36m<module>\u001b[1;34m\u001b[0m\n\u001b[0;32m      1\u001b[0m \u001b[1;32mfor\u001b[0m \u001b[0mepoch\u001b[0m \u001b[1;32min\u001b[0m \u001b[0mrange\u001b[0m\u001b[1;33m(\u001b[0m\u001b[1;36m100\u001b[0m\u001b[1;33m)\u001b[0m\u001b[1;33m:\u001b[0m\u001b[1;33m\u001b[0m\u001b[1;33m\u001b[0m\u001b[0m\n\u001b[1;32m----> 2\u001b[1;33m     \u001b[0mcost\u001b[0m \u001b[1;33m=\u001b[0m \u001b[0mtrain\u001b[0m\u001b[1;33m(\u001b[0m\u001b[0mX\u001b[0m\u001b[1;33m,\u001b[0m\u001b[0mY\u001b[0m\u001b[1;33m,\u001b[0m\u001b[0mmodel\u001b[0m\u001b[1;33m,\u001b[0m\u001b[1;36m1.0\u001b[0m\u001b[1;33m)\u001b[0m\u001b[1;33m\u001b[0m\u001b[1;33m\u001b[0m\u001b[0m\n\u001b[0m",
      "\u001b[1;32m<ipython-input-58-3f3af006467c>\u001b[0m in \u001b[0;36mtrain\u001b[1;34m(X, Y, model, lr)\u001b[0m\n\u001b[0;32m      7\u001b[0m     \u001b[0mcost\u001b[0m \u001b[1;33m=\u001b[0m \u001b[1;36m0.0\u001b[0m\u001b[1;33m\u001b[0m\u001b[1;33m\u001b[0m\u001b[0m\n\u001b[0;32m      8\u001b[0m     \u001b[1;32mfor\u001b[0m \u001b[0mx\u001b[0m\u001b[1;33m,\u001b[0m\u001b[0my\u001b[0m \u001b[1;32min\u001b[0m \u001b[0mzip\u001b[0m\u001b[1;33m(\u001b[0m\u001b[0mX\u001b[0m\u001b[1;33m,\u001b[0m\u001b[0mY\u001b[0m\u001b[1;33m)\u001b[0m\u001b[1;33m:\u001b[0m\u001b[1;33m\u001b[0m\u001b[1;33m\u001b[0m\u001b[0m\n\u001b[1;32m----> 9\u001b[1;33m         \u001b[0ma2\u001b[0m\u001b[1;33m,\u001b[0m \u001b[1;33m(\u001b[0m\u001b[0ma1\u001b[0m\u001b[1;33m,\u001b[0m\u001b[0mz1\u001b[0m\u001b[1;33m,\u001b[0m\u001b[0ma2\u001b[0m\u001b[1;33m,\u001b[0m\u001b[0mz2\u001b[0m\u001b[1;33m)\u001b[0m \u001b[1;33m=\u001b[0m \u001b[0mmodel\u001b[0m\u001b[1;33m.\u001b[0m\u001b[0mpredict\u001b[0m\u001b[1;33m(\u001b[0m\u001b[0mx\u001b[0m\u001b[1;33m)\u001b[0m\u001b[1;33m\u001b[0m\u001b[1;33m\u001b[0m\u001b[0m\n\u001b[0m\u001b[0;32m     10\u001b[0m         \u001b[0mcost\u001b[0m \u001b[1;33m-=\u001b[0m \u001b[0mnp\u001b[0m\u001b[1;33m.\u001b[0m\u001b[0mlog\u001b[0m\u001b[1;33m(\u001b[0m\u001b[0ma2\u001b[0m\u001b[1;33m)\u001b[0m \u001b[1;32mif\u001b[0m \u001b[0my\u001b[0m \u001b[1;32melse\u001b[0m \u001b[0mnp\u001b[0m\u001b[1;33m.\u001b[0m\u001b[0mlog\u001b[0m\u001b[1;33m(\u001b[0m\u001b[1;36m1\u001b[0m\u001b[1;33m-\u001b[0m\u001b[0ma2\u001b[0m\u001b[1;33m)\u001b[0m\u001b[1;33m\u001b[0m\u001b[1;33m\u001b[0m\u001b[0m\n\u001b[0;32m     11\u001b[0m         \u001b[0mdiff\u001b[0m \u001b[1;33m=\u001b[0m \u001b[0ma2\u001b[0m\u001b[1;33m-\u001b[0m\u001b[0my\u001b[0m\u001b[1;33m\u001b[0m\u001b[1;33m\u001b[0m\u001b[0m\n",
      "\u001b[1;32m<ipython-input-56-eb5f93aecbd7>\u001b[0m in \u001b[0;36mpredict\u001b[1;34m(self, X)\u001b[0m\n\u001b[0;32m     21\u001b[0m \u001b[1;33m\u001b[0m\u001b[0m\n\u001b[0;32m     22\u001b[0m     \u001b[1;32mdef\u001b[0m \u001b[0mpredict\u001b[0m\u001b[1;33m(\u001b[0m\u001b[0mself\u001b[0m\u001b[1;33m,\u001b[0m\u001b[0mX\u001b[0m\u001b[1;33m)\u001b[0m\u001b[1;33m:\u001b[0m\u001b[1;33m\u001b[0m\u001b[1;33m\u001b[0m\u001b[0m\n\u001b[1;32m---> 23\u001b[1;33m         \u001b[0mz1\u001b[0m \u001b[1;33m=\u001b[0m \u001b[0mself\u001b[0m\u001b[1;33m.\u001b[0m\u001b[0mw1\u001b[0m\u001b[1;33m@\u001b[0m\u001b[0mX\u001b[0m \u001b[1;33m+\u001b[0m \u001b[0mself\u001b[0m\u001b[1;33m.\u001b[0m\u001b[0mb1\u001b[0m\u001b[1;33m\u001b[0m\u001b[1;33m\u001b[0m\u001b[0m\n\u001b[0m\u001b[0;32m     24\u001b[0m         \u001b[0ma1\u001b[0m \u001b[1;33m=\u001b[0m \u001b[0mnp\u001b[0m\u001b[1;33m.\u001b[0m\u001b[0mtanh\u001b[0m\u001b[1;33m(\u001b[0m\u001b[0mz1\u001b[0m\u001b[1;33m)\u001b[0m\u001b[1;33m\u001b[0m\u001b[1;33m\u001b[0m\u001b[0m\n\u001b[0;32m     25\u001b[0m         \u001b[0mz2\u001b[0m \u001b[1;33m=\u001b[0m \u001b[0mself\u001b[0m\u001b[1;33m.\u001b[0m\u001b[0mw2\u001b[0m\u001b[1;33m@\u001b[0m\u001b[0ma1\u001b[0m \u001b[1;33m+\u001b[0m \u001b[0mself\u001b[0m\u001b[1;33m.\u001b[0m\u001b[0mb2\u001b[0m\u001b[1;33m\u001b[0m\u001b[1;33m\u001b[0m\u001b[0m\n",
      "\u001b[1;31mValueError\u001b[0m: matmul: Input operand 1 has a mismatch in its core dimension 0, with gufunc signature (n?,k),(k,m?)->(n?,m?) (size 2 is different from 3)"
     ]
    }
   ],
   "source": [
    "for epoch in range(100):\n",
    "    cost = train(X,Y,model,1.0)"
   ]
  },
  {
   "cell_type": "code",
   "execution_count": null,
   "id": "artificial-pressing",
   "metadata": {},
   "outputs": [],
   "source": []
  }
 ],
 "metadata": {
  "kernelspec": {
   "display_name": "Python 3",
   "language": "python",
   "name": "python3"
  },
  "language_info": {
   "codemirror_mode": {
    "name": "ipython",
    "version": 3
   },
   "file_extension": ".py",
   "mimetype": "text/x-python",
   "name": "python",
   "nbconvert_exporter": "python",
   "pygments_lexer": "ipython3",
   "version": "3.8.8"
  }
 },
 "nbformat": 4,
 "nbformat_minor": 5
}
