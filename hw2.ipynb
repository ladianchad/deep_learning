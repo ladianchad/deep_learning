{
 "cells": [
  {
   "cell_type": "code",
   "execution_count": 139,
   "id": "historical-bunch",
   "metadata": {},
   "outputs": [],
   "source": [
    "import numpy as np\n",
    "import matplotlib.pyplot as plt"
   ]
  },
  {
   "cell_type": "code",
   "execution_count": 152,
   "id": "lyric-moral",
   "metadata": {},
   "outputs": [],
   "source": [
    "x_seeds = np.array([(0,0),(1,0),(0,1),(1,1)],dtype=np.float)\n",
    "y_seeds = np.array([0,1,1,0])\n",
    "N = 1000\n",
    "idxs = np.random.randint(0,4,N)\n",
    "X = x_seeds[idxs]\n",
    "Y = y_seeds[idxs]"
   ]
  },
  {
   "cell_type": "code",
   "execution_count": 153,
   "id": "natural-wichita",
   "metadata": {},
   "outputs": [],
   "source": [
    "X += np.random.normal(scale = 0.15,size = X.shape)"
   ]
  },
  {
   "cell_type": "code",
   "execution_count": 160,
   "id": "stable-ordinary",
   "metadata": {},
   "outputs": [],
   "source": [
    "class ShallowNeuralNetwork():\n",
    "    def __init__(self,input_num = 2,hidden_num=3,method = 'normal'):\n",
    "        if method == 'normal':\n",
    "            self.w1 = np.random.normal(size=(hidden_num,input_num))\n",
    "            self.b1 = np.random.normal(size=hidden_num)\n",
    "            self.w2 = np.random.normal(size=hidden_num)\n",
    "            self.b2 = np.random.normal(size=1)\n",
    "        elif method == 'standard_normal':\n",
    "            self.w1 = np.random.standard_normal(size =(hidden_num,input_num))\n",
    "            self.b1 = np.random.standard_normal(size=hidden_num)\n",
    "            self.w2 = np.random.standard_normal(size=hidden_num)\n",
    "            self.b2 = np.random.standard_normal(size=1)\n",
    "        else:\n",
    "            self.w1 = np.random.standard_normal(size =(hidden_num,input_num))\n",
    "            self.b1 = np.random.standard_normal(size=hidden_num)\n",
    "            self.w2 = np.random.standard_normal(size=hidden_num)\n",
    "            self.b2 = np.random.standard_normal(size=1)\n",
    "    \n",
    "    def sigmoid(self,z):\n",
    "        return 1/(1+np.exp(-z))\n",
    "    \n",
    "    def predict(self,X):\n",
    "        z1 = self.w1@X + self.b1\n",
    "        a1 = np.tanh(z1)\n",
    "        z2 = self.w2@a1 + self.b2\n",
    "        a2 = self.sigmoid(z2)\n",
    "        return a2,(a1,z1,a2,z2)"
   ]
  },
  {
   "cell_type": "code",
   "execution_count": 161,
   "id": "unlikely-elephant",
   "metadata": {},
   "outputs": [
    {
     "name": "stdout",
     "output_type": "stream",
     "text": [
      "[1 0]\n",
      "[1 0]\n"
     ]
    }
   ],
   "source": [
    "model = ShallowNeuralNetwork(input_num=2,hidden_num=3)\n",
    "a = np.array([1,0])\n",
    "print(a)\n",
    "np.expand_dims(a,0)\n",
    "print(a)"
   ]
  },
  {
   "cell_type": "code",
   "execution_count": 162,
   "id": "considerable-label",
   "metadata": {},
   "outputs": [],
   "source": [
    "def train(X,Y,model,lr=0.1):\n",
    "    dw1 = np.zeros_like(model.w1)\n",
    "    db1 = np.zeros_like(model.b1)\n",
    "    dw2 = np.zeros_like(model.w2)\n",
    "    db2 = np.zeros_like(model.b2)\n",
    "    m = len(X)\n",
    "    cost = 0.0\n",
    "    for x,y in zip(X,Y):\n",
    "        a2, (a1,z1,a2,z2) = model.predict(x)\n",
    "        cost -= np.log(a2) if y else np.log(1-a2)\n",
    "        diff = a2-y\n",
    "        db2 += diff\n",
    "        dw2 += diff*a1.T\n",
    "        \n",
    "        db1 += model.w2.T*diff@(1-a1**2)\n",
    "        dw1 += model.w2.T*diff@(1-a1**2)*x\n",
    "    cost /= m\n",
    "    model.w1 -= lr*dw1/m\n",
    "    model.b1 -= lr*db1/m\n",
    "    model.w2 -= lr*dw2/m\n",
    "    model.b2 -= lr*db2/m\n",
    "    return cost"
   ]
  },
  {
   "cell_type": "code",
   "execution_count": 168,
   "id": "super-interpretation",
   "metadata": {},
   "outputs": [
    {
     "data": {
      "image/png": "[encoded data removed]",
      "text/plain": [
       "<Figure size 432x288 with 1 Axes>"
      ]
     },
     "metadata": {
      "needs_background": "light"
     },
     "output_type": "display_data"
    }
   ],
   "source": [
    "count = []\n",
    "result = []\n",
    "for epoch in range(100):\n",
    "    cost = train(X,Y,model,1.0)\n",
    "    count.append(epoch)\n",
    "    result.append(cost)\n",
    "plt.plot(count,result,label='cost')\n",
    "plt.xlabel('epoch')\n",
    "plt.ylabel('cost')\n",
    "plt.show()"
   ]
  },
  {
   "cell_type": "code",
   "execution_count": 169,
   "id": "historical-freeware",
   "metadata": {},
   "outputs": [
    {
     "name": "stdout",
     "output_type": "stream",
     "text": [
      "0.02847247462182385\n",
      "0.9934361686354463\n",
      "0.997452368318169\n",
      "0.022473101263392692\n"
     ]
    }
   ],
   "source": [
    "print(model.predict((1,1))[0].item())\n",
    "print(model.predict((0,1))[0].item())\n",
    "print(model.predict((1,0))[0].item())\n",
    "print(model.predict((0,0))[0].item())"
   ]
  },
  {
   "cell_type": "code",
   "execution_count": null,
   "id": "resident-failure",
   "metadata": {},
   "outputs": [],
   "source": []
  }
 ],
 "metadata": {
  "kernelspec": {
   "display_name": "Python 3",
   "language": "python",
   "name": "python3"
  },
  "language_info": {
   "codemirror_mode": {
    "name": "ipython",
    "version": 3
   },
   "file_extension": ".py",
   "mimetype": "text/x-python",
   "name": "python",
   "nbconvert_exporter": "python",
   "pygments_lexer": "ipython3",
   "version": "3.8.8"
  }
 },
 "nbformat": 4,
 "nbformat_minor": 5
}
