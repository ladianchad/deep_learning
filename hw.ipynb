{
 "cells": [
  {
   "cell_type": "code",
   "execution_count": 78,
   "id": "accurate-family",
   "metadata": {},
   "outputs": [],
   "source": [
    "import torch\n",
    "import numpy as np\n"
   ]
  },
  {
   "cell_type": "code",
   "execution_count": 104,
   "id": "fatal-bullet",
   "metadata": {},
   "outputs": [],
   "source": [
    "X = np.array([(0,0),(1,0)\n",
    "     ,(0,1),(1,1)])\n",
    "Y = np.array([0,1,1,0])"
   ]
  },
  {
   "cell_type": "code",
   "execution_count": 105,
   "id": "conservative-withdrawal",
   "metadata": {},
   "outputs": [],
   "source": [
    "class logistic_regression():\n",
    "    def __init__(self,dim = 2,method = 'standard_normal'):\n",
    "        if method == 'rand':\n",
    "            self.w = np.random.rand(dim)\n",
    "            self.b = np.random.rand()\n",
    "        elif method == 'randn':\n",
    "            self.w = np.random.randn(dim)\n",
    "            self.b = np.random.randn()\n",
    "        elif method == 'standard_normal':\n",
    "            self.w = np.random.standard_normal(dim)\n",
    "            self.b = np.random.standard_normal()\n",
    "        else:\n",
    "            self.w = np.random.standard_normal(dim)\n",
    "            self.b = np.random.standard_normal()\n",
    "    \n",
    "    def sigmoid(self,z):\n",
    "        return 1/(1+np.exp(-z))\n",
    "    \n",
    "    def predict(self,X):\n",
    "        z = X@self.w + self.b\n",
    "        return self.sigmoid(z)\n",
    "    \n",
    "def train(X,Y,model,lr=0.1):\n",
    "    dw = np.zeros((model.w.shape[0]))\n",
    "    db = 0.0\n",
    "    m = len(X)\n",
    "    cost = 0.0\n",
    "    for x,y in zip(X,Y):\n",
    "        pred = model.predict(x)\n",
    "        cost -= np.log(pred) if y else np.log(1-pred)\n",
    "        dw += (pred-y)*x\n",
    "        db +=(pred -y)\n",
    "    cost /= m\n",
    "    model.w -= lr*dw/m\n",
    "    model.b -= lr*db/m\n",
    "    return cost\n",
    "\n",
    "\n"
   ]
  },
  {
   "cell_type": "code",
   "execution_count": 106,
   "id": "industrial-murray",
   "metadata": {},
   "outputs": [],
   "source": [
    "logi = logistic_regression()"
   ]
  },
  {
   "cell_type": "code",
   "execution_count": 107,
   "id": "black-captain",
   "metadata": {},
   "outputs": [],
   "source": [
    "for epoch in range(10000):\n",
    "    cost = train(X,Y,model,0.1)\n",
    "    #if epoch%100 == 0:\n",
    "        #print(\"epoch : {ep} cost : {co}\".format(ep=epoch,co=cost))"
   ]
  },
  {
   "cell_type": "code",
   "execution_count": 111,
   "id": "helpful-hearts",
   "metadata": {},
   "outputs": [
    {
     "name": "stdout",
     "output_type": "stream",
     "text": [
      "0.4999999999999982\n"
     ]
    }
   ],
   "source": [
    "test = model.predict([0,0])\n",
    "print(test)"
   ]
  }
 ],
 "metadata": {
  "kernelspec": {
   "display_name": "Python 3",
   "language": "python",
   "name": "python3"
  },
  "language_info": {
   "codemirror_mode": {
    "name": "ipython",
    "version": 3
   },
   "file_extension": ".py",
   "mimetype": "text/x-python",
   "name": "python",
   "nbconvert_exporter": "python",
   "pygments_lexer": "ipython3",
   "version": "3.8.8"
  }
 },
 "nbformat": 4,
 "nbformat_minor": 5
}
