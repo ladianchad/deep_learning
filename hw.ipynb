{
 "cells": [
  {
   "cell_type": "code",
   "execution_count": 2,
   "id": "accurate-family",
   "metadata": {},
   "outputs": [],
   "source": [
    "import torch\n",
    "import numpy as np\n",
    "import matplotlib.pyplot as plt"
   ]
  },
  {
   "cell_type": "code",
   "execution_count": 4,
   "id": "fatal-bullet",
   "metadata": {},
   "outputs": [
    {
     "data": {
      "image/png": "[encoded data removed]",
      "text/plain": [
       "<Figure size 432x288 with 1 Axes>"
      ]
     },
     "metadata": {
      "needs_background": "light"
     },
     "output_type": "display_data"
    }
   ],
   "source": [
    "X = np.array([(0,0),(1,0)\n",
    "     ,(0,1),(1,1)])\n",
    "Y = np.array([0,1,1,1])\n",
    "\n",
    "plt.plot(X,Y,'ro')\n",
    "plt.show() \n"
   ]
  },
  {
   "cell_type": "code",
   "execution_count": 17,
   "id": "conservative-withdrawal",
   "metadata": {},
   "outputs": [],
   "source": [
    "class logistic_regression():\n",
    "    def __init__(self,dim = 2,method = 'standard_normal'):\n",
    "        if method == 'rand':\n",
    "            self.w = np.random.rand(dim)\n",
    "            self.b = np.random.rand()\n",
    "        elif method == 'randn':\n",
    "            self.w = np.random.randn(dim)\n",
    "            self.b = np.random.randn()\n",
    "        elif method == 'standard_normal':\n",
    "            self.w = np.random.standard_normal(dim)\n",
    "            self.b = np.random.standard_normal()\n",
    "        else:\n",
    "            self.w = np.random.standard_normal(dim)\n",
    "            self.b = np.random.standard_normal()\n",
    "    \n",
    "    def sigmoid(self,z):\n",
    "        return 1/(1+np.exp(-z))\n",
    "    \n",
    "    def predict(self,X):\n",
    "        z = X@self.w + self.b\n",
    "        return self.sigmoid(z)\n",
    "    \n",
    "def train(X,Y,model,lr=0.1):\n",
    "    dw = np.zeros((model.w.shape[0]))\n",
    "    db = 0.0\n",
    "    m = len(X)\n",
    "    cost = 0.0\n",
    "    for x,y in zip(X,Y):\n",
    "        pred = model.predict(x)\n",
    "        cost -= np.log(pred) if y else np.log(1-pred)\n",
    "        dw += (pred-y)*x\n",
    "        db +=(pred -y)\n",
    "    cost /= m\n",
    "    model.w -= lr*dw/m\n",
    "    model.b -= lr*db/m\n",
    "    return cost\n",
    "    "
   ]
  },
  {
   "cell_type": "code",
   "execution_count": 18,
   "id": "industrial-murray",
   "metadata": {},
   "outputs": [],
   "source": [
    "logi = logistic_regression()\n",
    "logi_lr2 = logistic_regression()\n",
    "logi_lr3 = logistic_regression()"
   ]
  },
  {
   "cell_type": "code",
   "execution_count": 19,
   "id": "black-captain",
   "metadata": {},
   "outputs": [],
   "source": [
    "costs_lr1 = []\n",
    "costs_lr2 = []\n",
    "costs_lr3 = []\n",
    "\n",
    "for epoch in range(1000):\n",
    "    cost_lr1 = train(X,Y,logi_lr1,0.1)\n",
    "    cost_lr2 = train(X,Y,logi_lr2,0.25)\n",
    "    cost_lr3 = train(X,Y,logi_lr3,0.75)\n",
    "    costs_lr1.append(cost_lr1)\n",
    "    costs_lr2.append(cost_lr2)\n",
    "    costs_lr3.append(cost_lr3)"
   ]
  },
  {
   "cell_type": "code",
   "execution_count": 20,
   "id": "helpful-hearts",
   "metadata": {},
   "outputs": [
    {
     "data": {
      "image/png": "[encoded data removed]",
      "text/plain": [
       "<Figure size 432x288 with 1 Axes>"
      ]
     },
     "metadata": {
      "needs_background": "light"
     },
     "output_type": "display_data"
    }
   ],
   "source": [
    "plt.plot(costs_lr1,'r')\n",
    "\n",
    "plt.xlabel('epoch')\n",
    "plt.ylabel('cost')\n",
    "\n",
    "plt.show()\n",
    "\n"
   ]
  },
  {
   "cell_type": "code",
   "execution_count": 21,
   "id": "middle-palestinian",
   "metadata": {},
   "outputs": [
    {
     "name": "stdout",
     "output_type": "stream",
     "text": [
      "false\n",
      "[0 0] predict : 0.09182766855637425\n",
      "true\n",
      "[1 0] predict : 0.9630678419265276\n",
      "true\n",
      "[0 1] predict : 0.9631842872880476\n",
      "true\n",
      "[1 1] predict : 0.999851812163657\n"
     ]
    }
   ],
   "source": [
    "test_inputs = np.array([(0,0),(1,0)\n",
    "     ,(0,1),(1,1)])\n",
    "\n",
    "for test in test_inputs:\n",
    "    predict = logi_lr1.predict(test)\n",
    "    if predict > 0.5 :\n",
    "        print(\"true\")\n",
    "    else:\n",
    "        print(\"false\")\n",
    "    print(test,\"predict : {}\".format(predict) )\n",
    "    \n"
   ]
  },
  {
   "cell_type": "code",
   "execution_count": null,
   "id": "little-press",
   "metadata": {},
   "outputs": [],
   "source": []
  }
 ],
 "metadata": {
  "celltoolbar": "Raw Cell Format",
  "kernelspec": {
   "display_name": "Python 3",
   "language": "python",
   "name": "python3"
  },
  "language_info": {
   "codemirror_mode": {
    "name": "ipython",
    "version": 3
   },
   "file_extension": ".py",
   "mimetype": "text/x-python",
   "name": "python",
   "nbconvert_exporter": "python",
   "pygments_lexer": "ipython3",
   "version": "3.8.8"
  }
 },
 "nbformat": 4,
 "nbformat_minor": 5
}
